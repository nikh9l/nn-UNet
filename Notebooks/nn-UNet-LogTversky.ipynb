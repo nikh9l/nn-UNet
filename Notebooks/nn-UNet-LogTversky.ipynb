{
  "nbformat": 4,
  "nbformat_minor": 0,
  "metadata": {
    "colab": {
      "name": "ATL-Git.ipynb",
      "provenance": [],
      "collapsed_sections": []
    },
    "kernelspec": {
      "name": "python3",
      "display_name": "Python 3"
    },
    "accelerator": "GPU"
  },
  "cells": [
    {
      "cell_type": "markdown",
      "metadata": {
        "id": "J-9eZuJyxVfT"
      },
      "source": [
        "Mounting the drive to Colab"
      ]
    },
    {
      "cell_type": "code",
      "metadata": {
        "id": "2nbIqVh7HRw3"
      },
      "source": [
        "#Run for each session\n",
        "from google.colab import drive\n",
        "drive.mount('/content/drive',force_remount = False)"
      ],
      "execution_count": null,
      "outputs": []
    },
    {
      "cell_type": "markdown",
      "metadata": {
        "id": "Hze-bI9MxaNV"
      },
      "source": [
        "Setup a base directory to install repo, dataset, libraries and the .ipynb notebook"
      ]
    },
    {
      "cell_type": "code",
      "metadata": {
        "id": "Mi0TmkVGH9AR"
      },
      "source": [
        "#Run for each session\n",
        "import os\n",
        "base_dir = '/content/drive/My Drive/Colab Notebooks'\n",
        "os.chdir(base_dir)"
      ],
      "execution_count": null,
      "outputs": []
    },
    {
      "cell_type": "markdown",
      "metadata": {
        "id": "ZRDpwFhSKsVt"
      },
      "source": [
        "Clone the repository"
      ]
    },
    {
      "cell_type": "code",
      "metadata": {
        "id": "is_TJLbnKrv4"
      },
      "source": [
        "#Install only once\n",
        "!git clone https://github.com/nikh9l/nn-UNet.git\n",
        "!git clone https://github.com/NVIDIA/apex"
      ],
      "execution_count": null,
      "outputs": []
    },
    {
      "cell_type": "markdown",
      "metadata": {
        "id": "5Vpgd3P3xhcl"
      },
      "source": [
        "Install and Import Libraries"
      ]
    },
    {
      "cell_type": "code",
      "metadata": {
        "id": "49q8bFeIIHCt"
      },
      "source": [
        "#Run for each session\n",
        "respository_dir = os.path.join(base_dir,'NNU-Net')\n",
        "os.chdir(respository_dir)\n",
        "\n",
        "!pip install -e .\n",
        "\n",
        "os.chdir(base_dir)"
      ],
      "execution_count": null,
      "outputs": []
    },
    {
      "cell_type": "markdown",
      "metadata": {
        "id": "IIWQD9W3xnnf"
      },
      "source": [
        "Import Libraries"
      ]
    },
    {
      "cell_type": "code",
      "metadata": {
        "id": "p_w2iHqWJOki"
      },
      "source": [
        "#Run for each session\n",
        "import shutil\n",
        "from collections import OrderedDict\n",
        "import json\n",
        "import numpy as np\n",
        "\n",
        "\n",
        "#for colab users only - keep the base directory same as above\n",
        "import os\n",
        "base_dir = \"/content/drive/My Drive/Colab Notebooks\"\n",
        "repository_dir = os.path.join(base_dir,'NNU-Net')\n",
        "os.chdir(base_dir)"
      ],
      "execution_count": null,
      "outputs": []
    },
    {
      "cell_type": "code",
      "metadata": {
        "id": "UOwa4SBYJVlp",
        "colab": {
          "base_uri": "https://localhost:8080/"
        },
        "outputId": "21fd2896-b5d1-4cf3-beaf-401e373c1052"
      },
      "source": [
        "#Run for each session\n",
        "if os.getcwd()==base_dir:\n",
        "    \n",
        "    print('We are in the correct directory')\n",
        "else:\n",
        "    print(\"Run set base directory step again, then check to verify.\")"
      ],
      "execution_count": null,
      "outputs": [
        {
          "output_type": "stream",
          "text": [
            "We are in the correct directory\n"
          ],
          "name": "stdout"
        }
      ]
    },
    {
      "cell_type": "markdown",
      "metadata": {
        "id": "AMUr2jrXxwo4"
      },
      "source": [
        "Set Environment Variables"
      ]
    },
    {
      "cell_type": "code",
      "metadata": {
        "id": "zwWKS_qFJ8tK"
      },
      "source": [
        "#Run for each session\n",
        "os.environ['nnUNet_raw_data_base'] = os.path.join(base_dir,'NNU-Net/nnUNet_raw_data_base/nnUNet_raw_data')\n",
        "os.environ['nnUNet_preprocessed'] = os.path.join(base_dir,'NNU-Net/nnUNet_preprocessed')\n",
        "os.environ['RESULTS_FOLDER'] = os.path.join(base_dir,'NNU-Net/RESULTS')"
      ],
      "execution_count": null,
      "outputs": []
    },
    {
      "cell_type": "markdown",
      "metadata": {
        "id": "ttLT5NL-x0GU"
      },
      "source": [
        "Mention Task name => Dataset name and folder"
      ]
    },
    {
      "cell_type": "code",
      "metadata": {
        "id": "eCVE6QPfaq7q"
      },
      "source": [
        "task_name = 'Task005_Prostate'\n",
        "main_dir = '/content/drive/My Drive/Colab Notebooks/NNU-Net/nnunet'"
      ],
      "execution_count": null,
      "outputs": []
    },
    {
      "cell_type": "markdown",
      "metadata": {
        "id": "Q3Zrn1Q-x4fJ"
      },
      "source": [
        "Run Plan and Process to configure the dataset fingerprints"
      ]
    },
    {
      "cell_type": "code",
      "metadata": {
        "id": "0stmWAwxbAUQ"
      },
      "source": [
        "os.chdir(main_dir)\n",
        "!python experiment_planning/nnUNet_plan_and_preprocess.py -t 5\n",
        "os.chdir(base_dir)"
      ],
      "execution_count": null,
      "outputs": []
    },
    {
      "cell_type": "markdown",
      "metadata": {
        "id": "pSFNux9ByTcp"
      },
      "source": [
        "Install NVidia Apex"
      ]
    },
    {
      "cell_type": "code",
      "metadata": {
        "id": "kenDTxv8eQr7"
      },
      "source": [
        "#Mandatory\n",
        "os.chdir('apex')\n",
        "!pip install -v --no-cache-dir --global-option=\"--cpp_ext\" --global-option=\"--cuda_ext\" ./\n",
        "os.chdir(base_dir)"
      ],
      "execution_count": null,
      "outputs": []
    },
    {
      "cell_type": "markdown",
      "metadata": {
        "id": "45OC05VyyXMq"
      },
      "source": [
        "Start Training with appropriate model by choosing the UNet variant and Loss functino to be trained"
      ]
    },
    {
      "cell_type": "code",
      "metadata": {
        "id": "qTGMAEZdgGts"
      },
      "source": [
        "#Training\n",
        "os.chdir(main_dir)\n",
        "!nnUNet_train 3d_fullres nnUNetTrainer_LogTversky 5 all -c\n",
        "os.chdir(base_dir)"
      ],
      "execution_count": null,
      "outputs": []
    },
    {
      "cell_type": "markdown",
      "metadata": {
        "id": "xD3tBXyByclu"
      },
      "source": [
        "Predict the Test images using above model saved in Drive"
      ]
    },
    {
      "cell_type": "code",
      "metadata": {
        "id": "i3j1AR6QmOmc"
      },
      "source": [
        "#Prediction\n",
        "os.chdir(main_dir)\n",
        "!nnUNet_predict -i '/content/drive/My Drive/Colab Notebooks/NNU-Net/nnUNet_raw_data_base/nnUNet_raw_data/nnUNet_raw_data/Task004_Hippocampus/imagesTs/' -o '/content/drive/My Drive/Colab Notebooks/NNU-Net/predictions/Task004_Dice/' -t 4 -tr nnUNetTrainer_Dice -m 3d_fullres -f all\n",
        "os.chdir(base_dir)"
      ],
      "execution_count": null,
      "outputs": []
    }
  ]
}